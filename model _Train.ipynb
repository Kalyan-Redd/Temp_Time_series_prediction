{
  "cells": [
    {
      "cell_type": "code",
      "execution_count": 2,
      "metadata": {
        "id": "Wu1MsJU3XKoO"
      },
      "outputs": [],
      "source": [
        "# time series model for prediction of next dat temperature"
      ]
    },
    {
      "cell_type": "code",
      "execution_count": 2,
      "metadata": {
        "id": "ZQlIY9g_XyGt"
      },
      "outputs": [],
      "source": [
        "import numpy as np\n",
        "import pandas as pd\n",
        "import tensorflow as tf\n",
        "from tensorflow import keras\n",
        "from tensorflow.keras.models import Sequential\n",
        "from tensorflow.keras.layers import LSTM,Dense\n",
        "from sklearn.model_selection import train_test_split"
      ]
    },
    {
      "cell_type": "code",
      "execution_count": 3,
      "metadata": {
        "colab": {
          "base_uri": "https://localhost:8080/"
        },
        "id": "u9F0cdd1YONI",
        "outputId": "e412d456-6028-4eb3-f40f-c22c23b16ad8"
      },
      "outputs": [
        {
          "name": "stderr",
          "output_type": "stream",
          "text": [
            "C:\\Users\\LENOVO\\AppData\\Local\\Temp\\ipykernel_16816\\1747212286.py:3: UserWarning: Could not infer format, so each element will be parsed individually, falling back to `dateutil`. To ensure parsing is consistent and as-expected, please specify a format.\n",
            "  df = pd.read_csv(\"daily_minimum_temps.csv\",parse_dates = ['Date'],index_col='Date')\n"
          ]
        }
      ],
      "source": [
        "# Load the dataset into the dataframe\n",
        "# parse_date : is used to convert the date column into datetime objects\n",
        "df = pd.read_csv(\"daily_minimum_temps.csv\",parse_dates = ['Date'],index_col='Date')"
      ]
    },
    {
      "cell_type": "code",
      "execution_count": 4,
      "metadata": {
        "colab": {
          "base_uri": "https://localhost:8080/",
          "height": 237
        },
        "id": "nRhmZvXCYtz3",
        "outputId": "afb2f862-b61d-4dd4-c834-474d3f4ff3a0"
      },
      "outputs": [
        {
          "data": {
            "text/html": [
              "<div>\n",
              "<style scoped>\n",
              "    .dataframe tbody tr th:only-of-type {\n",
              "        vertical-align: middle;\n",
              "    }\n",
              "\n",
              "    .dataframe tbody tr th {\n",
              "        vertical-align: top;\n",
              "    }\n",
              "\n",
              "    .dataframe thead th {\n",
              "        text-align: right;\n",
              "    }\n",
              "</style>\n",
              "<table border=\"1\" class=\"dataframe\">\n",
              "  <thead>\n",
              "    <tr style=\"text-align: right;\">\n",
              "      <th></th>\n",
              "      <th>Temp</th>\n",
              "    </tr>\n",
              "    <tr>\n",
              "      <th>Date</th>\n",
              "      <th></th>\n",
              "    </tr>\n",
              "  </thead>\n",
              "  <tbody>\n",
              "    <tr>\n",
              "      <th>1981-01-01</th>\n",
              "      <td>20.7</td>\n",
              "    </tr>\n",
              "    <tr>\n",
              "      <th>1981-01-02</th>\n",
              "      <td>17.9</td>\n",
              "    </tr>\n",
              "    <tr>\n",
              "      <th>1981-01-03</th>\n",
              "      <td>18.8</td>\n",
              "    </tr>\n",
              "    <tr>\n",
              "      <th>1981-01-04</th>\n",
              "      <td>14.6</td>\n",
              "    </tr>\n",
              "    <tr>\n",
              "      <th>1981-01-05</th>\n",
              "      <td>15.8</td>\n",
              "    </tr>\n",
              "  </tbody>\n",
              "</table>\n",
              "</div>"
            ],
            "text/plain": [
              "            Temp\n",
              "Date            \n",
              "1981-01-01  20.7\n",
              "1981-01-02  17.9\n",
              "1981-01-03  18.8\n",
              "1981-01-04  14.6\n",
              "1981-01-05  15.8"
            ]
          },
          "execution_count": 4,
          "metadata": {},
          "output_type": "execute_result"
        }
      ],
      "source": [
        "# checking the first\n",
        "df.head()"
      ]
    },
    {
      "cell_type": "code",
      "execution_count": 5,
      "metadata": {
        "colab": {
          "base_uri": "https://localhost:8080/",
          "height": 115
        },
        "id": "-l17lkTcYxHo",
        "outputId": "00327ce9-fdda-4955-d258-6aade3998531"
      },
      "outputs": [
        {
          "data": {
            "text/plain": [
              "Temp    0\n",
              "dtype: int64"
            ]
          },
          "execution_count": 5,
          "metadata": {},
          "output_type": "execute_result"
        }
      ],
      "source": [
        "df.isnull().sum()\n"
      ]
    },
    {
      "cell_type": "code",
      "execution_count": 6,
      "metadata": {
        "colab": {
          "base_uri": "https://localhost:8080/",
          "height": 115
        },
        "id": "UaObOGzzZIfq",
        "outputId": "eb4ac499-9d65-4d1b-a4ac-885036c9718c"
      },
      "outputs": [
        {
          "data": {
            "text/plain": [
              "Temp    object\n",
              "dtype: object"
            ]
          },
          "execution_count": 6,
          "metadata": {},
          "output_type": "execute_result"
        }
      ],
      "source": [
        "df.dtypes"
      ]
    },
    {
      "cell_type": "code",
      "execution_count": 7,
      "metadata": {
        "colab": {
          "base_uri": "https://localhost:8080/"
        },
        "id": "l_47dJFUZr6q",
        "outputId": "8ad08790-d142-42c1-8fff-1ab2ad1b6ac1"
      },
      "outputs": [
        {
          "data": {
            "text/plain": [
              "(3650, 1)"
            ]
          },
          "execution_count": 7,
          "metadata": {},
          "output_type": "execute_result"
        }
      ],
      "source": [
        "df.shape"
      ]
    },
    {
      "cell_type": "code",
      "execution_count": 8,
      "metadata": {
        "id": "HAIt4LlIZv2U"
      },
      "outputs": [],
      "source": [
        "from math import nan\n",
        "# string format for a numric value can be\n",
        "a='1'\n",
        "stock = \"one hundred three\"\n",
        "stock = nan\n",
        "temp = \"hello\" # no sense\n",
        "temp = nan"
      ]
    },
    {
      "cell_type": "code",
      "execution_count": 9,
      "metadata": {
        "id": "vT0WPMNLaCS2"
      },
      "outputs": [],
      "source": [
        "# converting the string values to numeric values by removing the double quotes and if string value does bot make any sense or it\n",
        "# we convert that value to null\n",
        "df['Temp'] = pd.to_numeric(df['Temp'],errors = 'coerce')"
      ]
    },
    {
      "cell_type": "code",
      "execution_count": 10,
      "metadata": {
        "colab": {
          "base_uri": "https://localhost:8080/",
          "height": 115
        },
        "id": "Ke_1330ya0kc",
        "outputId": "11af1423-b28c-45f5-a647-e4c4a2774d80"
      },
      "outputs": [
        {
          "data": {
            "text/plain": [
              "Temp    3\n",
              "dtype: int64"
            ]
          },
          "execution_count": 10,
          "metadata": {},
          "output_type": "execute_result"
        }
      ],
      "source": [
        "df.isnull().sum()"
      ]
    },
    {
      "cell_type": "code",
      "execution_count": 11,
      "metadata": {
        "id": "x2AuL2BAm3Sf"
      },
      "outputs": [],
      "source": [
        "df = df.dropna()"
      ]
    },
    {
      "cell_type": "code",
      "execution_count": 12,
      "metadata": {
        "colab": {
          "base_uri": "https://localhost:8080/",
          "height": 115
        },
        "id": "7K15fr-BndbZ",
        "outputId": "4391fa59-e16e-406d-9dab-2f77bb32dcf2"
      },
      "outputs": [
        {
          "data": {
            "text/plain": [
              "Temp    0\n",
              "dtype: int64"
            ]
          },
          "execution_count": 12,
          "metadata": {},
          "output_type": "execute_result"
        }
      ],
      "source": [
        "df.isnull().sum()"
      ]
    },
    {
      "cell_type": "code",
      "execution_count": 13,
      "metadata": {
        "colab": {
          "base_uri": "https://localhost:8080/"
        },
        "id": "wmpkeDnMa6bj",
        "outputId": "8ff2ebaa-8bbd-431a-ee68-199f49d20678"
      },
      "outputs": [
        {
          "name": "stdout",
          "output_type": "stream",
          "text": [
            "Index(['Temp'], dtype='object')\n"
          ]
        }
      ],
      "source": [
        "from sklearn.preprocessing import MinMaxScaler\n",
        "\n",
        "# Ensure 'Temp' is a column and not a method\n",
        "print(df.columns)  # Should include 'Temp'\n",
        "\n",
        "# Apply MinMax scaling\n",
        "scaler = MinMaxScaler()\n",
        "data_scaled = scaler.fit_transform(df['Temp'].values.reshape(-1, 1))\n"
      ]
    },
    {
      "cell_type": "code",
      "execution_count": 14,
      "metadata": {
        "id": "jktNmLmVdWZK"
      },
      "outputs": [],
      "source": [
        "#\n",
        "seq_length = 30"
      ]
    },
    {
      "cell_type": "code",
      "execution_count": 15,
      "metadata": {
        "id": "K2AQEzvwdYY7"
      },
      "outputs": [],
      "source": [
        "# fucttion for creating sequence\n",
        "def create_sequences(data_scaled,seq_length):\n",
        "  X,y =[],[]\n",
        "  for i in range(len(data_scaled)-seq_length):\n",
        "    X.append(data_scaled[i:i+seq_length])\n",
        "    y.append(data_scaled[i+seq_length])\n",
        "  return np.array(X),np.array(y)\n",
        "\n"
      ]
    },
    {
      "cell_type": "code",
      "execution_count": 16,
      "metadata": {
        "id": "jFhuHV5TfiXz"
      },
      "outputs": [],
      "source": [
        "# create the function and storing the value in list X and y\n",
        "X,y = create_sequences(data_scaled,seq_length)"
      ]
    },
    {
      "cell_type": "code",
      "execution_count": 17,
      "metadata": {
        "id": "6-k8JoWWgQmm"
      },
      "outputs": [],
      "source": [
        "# Divide the dataset into the train test and split\n",
        "X_train,X_test,y_train,y_test = train_test_split(X,y,test_size=0.2,shuffle = False)\n"
      ]
    },
    {
      "cell_type": "code",
      "execution_count": 18,
      "metadata": {
        "colab": {
          "base_uri": "https://localhost:8080/"
        },
        "id": "QM1cyuwRg_OT",
        "outputId": "ccd77fb5-48e0-4616-cd11-27b6fd8e0f6a"
      },
      "outputs": [
        {
          "name": "stdout",
          "output_type": "stream",
          "text": [
            "WARNING:tensorflow:From c:\\Users\\LENOVO\\anaconda3\\envs\\ml_env\\lib\\site-packages\\keras\\src\\layers\\rnn\\lstm.py:148: The name tf.executing_eagerly_outside_functions is deprecated. Please use tf.compat.v1.executing_eagerly_outside_functions instead.\n",
            "\n"
          ]
        }
      ],
      "source": [
        "#building the rnn model\n",
        "model = Sequential([\n",
        "    LSTM(64,activation = \"relu\",input_shape = (seq_length,1)),\n",
        "    Dense(1)\n",
        "])"
      ]
    },
    {
      "cell_type": "code",
      "execution_count": 19,
      "metadata": {
        "id": "nuyTHx3v0CQ5"
      },
      "outputs": [
        {
          "name": "stdout",
          "output_type": "stream",
          "text": [
            "WARNING:tensorflow:From c:\\Users\\LENOVO\\anaconda3\\envs\\ml_env\\lib\\site-packages\\keras\\src\\optimizers\\__init__.py:309: The name tf.train.Optimizer is deprecated. Please use tf.compat.v1.train.Optimizer instead.\n",
            "\n"
          ]
        }
      ],
      "source": [
        "from tensorflow.keras.losses import MeanSquaredError\n",
        "model.compile(optimizer='adam', loss=MeanSquaredError())\n"
      ]
    },
    {
      "cell_type": "code",
      "execution_count": 20,
      "metadata": {
        "colab": {
          "base_uri": "https://localhost:8080/"
        },
        "id": "p6HRH4vzlAq2",
        "outputId": "23dca1b3-3215-4cf6-f94f-56562c546ea4"
      },
      "outputs": [
        {
          "name": "stdout",
          "output_type": "stream",
          "text": [
            "Epoch 1/20\n",
            "WARNING:tensorflow:From c:\\Users\\LENOVO\\anaconda3\\envs\\ml_env\\lib\\site-packages\\keras\\src\\utils\\tf_utils.py:492: The name tf.ragged.RaggedTensorValue is deprecated. Please use tf.compat.v1.ragged.RaggedTensorValue instead.\n",
            "\n",
            "91/91 [==============================] - 2s 10ms/step - loss: 0.0242\n",
            "Epoch 2/20\n",
            "91/91 [==============================] - 1s 11ms/step - loss: 0.0107\n",
            "Epoch 3/20\n",
            "91/91 [==============================] - 1s 9ms/step - loss: 0.0105\n",
            "Epoch 4/20\n",
            "91/91 [==============================] - 1s 9ms/step - loss: 0.0104\n",
            "Epoch 5/20\n",
            "91/91 [==============================] - 1s 8ms/step - loss: 0.0103\n",
            "Epoch 6/20\n",
            "91/91 [==============================] - 1s 8ms/step - loss: 0.0100\n",
            "Epoch 7/20\n",
            "91/91 [==============================] - 1s 8ms/step - loss: 0.0099\n",
            "Epoch 8/20\n",
            "91/91 [==============================] - 1s 8ms/step - loss: 0.0097\n",
            "Epoch 9/20\n",
            "91/91 [==============================] - 1s 8ms/step - loss: 0.0095\n",
            "Epoch 10/20\n",
            "91/91 [==============================] - 1s 7ms/step - loss: 0.0093\n",
            "Epoch 11/20\n",
            "91/91 [==============================] - 1s 7ms/step - loss: 0.0093\n",
            "Epoch 12/20\n",
            "91/91 [==============================] - 1s 7ms/step - loss: 0.0091\n",
            "Epoch 13/20\n",
            "91/91 [==============================] - 1s 8ms/step - loss: 0.0090\n",
            "Epoch 14/20\n",
            "91/91 [==============================] - 1s 8ms/step - loss: 0.0091\n",
            "Epoch 15/20\n",
            "91/91 [==============================] - 1s 9ms/step - loss: 0.0090\n",
            "Epoch 16/20\n",
            "91/91 [==============================] - 1s 9ms/step - loss: 0.0089\n",
            "Epoch 17/20\n",
            "91/91 [==============================] - 1s 9ms/step - loss: 0.0089\n",
            "Epoch 18/20\n",
            "91/91 [==============================] - 1s 8ms/step - loss: 0.0089\n",
            "Epoch 19/20\n",
            "91/91 [==============================] - 1s 10ms/step - loss: 0.0088\n",
            "Epoch 20/20\n",
            "91/91 [==============================] - 1s 8ms/step - loss: 0.0089\n"
          ]
        },
        {
          "data": {
            "text/plain": [
              "<keras.src.callbacks.History at 0x256afb31a50>"
            ]
          },
          "execution_count": 20,
          "metadata": {},
          "output_type": "execute_result"
        }
      ],
      "source": [
        "# Train the model\n",
        "model.fit(X_train,y_train,epochs =20,batch_size=32)"
      ]
    },
    {
      "cell_type": "code",
      "execution_count": 21,
      "metadata": {
        "colab": {
          "base_uri": "https://localhost:8080/"
        },
        "id": "G9FSYPy9marr",
        "outputId": "fc9456cc-36d8-4b3e-de73-5b8be7cc757d"
      },
      "outputs": [
        {
          "name": "stdout",
          "output_type": "stream",
          "text": [
            "23/23 [==============================] - 0s 6ms/step\n"
          ]
        }
      ],
      "source": [
        "y_pred_scaled = model.predict(X_test)"
      ]
    },
    {
      "cell_type": "code",
      "execution_count": 22,
      "metadata": {
        "id": "aB-53a-8qvWT"
      },
      "outputs": [],
      "source": [
        "#inverse transform the scaled data\n",
        "\n",
        "y_pred_scaled = np.clip(y_pred_scaled,0,1)\n",
        "\n",
        "y_pred = scaler.inverse_transform(y_pred_scaled)\n",
        "\n",
        "y_test_actual = scaler.inverse_transform(y_test)"
      ]
    },
    {
      "cell_type": "code",
      "execution_count": 23,
      "metadata": {
        "colab": {
          "base_uri": "https://localhost:8080/"
        },
        "id": "jeeK8fBGnicZ",
        "outputId": "993e541f-9bc9-41b0-8dd0-8117443a1eb0"
      },
      "outputs": [
        {
          "name": "stdout",
          "output_type": "stream",
          "text": [
            "1/1 [==============================] - 0s 27ms/step\n",
            "Next day's temperature is :  12.741159\n"
          ]
        }
      ],
      "source": [
        "last_sequence = data_scaled[-seq_length:].reshape(1, seq_length, 1)\n",
        "next_temp_scaled = model.predict(last_sequence)\n",
        "next_temp_scaled = np.clip(next_temp_scaled, 0, 1)\n",
        "next_day_temp = scaler.inverse_transform(next_temp_scaled)\n",
        "\n",
        "print(f\"Next day's temperature is : \", next_day_temp[0][0])"
      ]
    },
    {
      "cell_type": "code",
      "execution_count": 24,
      "metadata": {
        "colab": {
          "base_uri": "https://localhost:8080/"
        },
        "id": "fEVNPTv5q0do",
        "outputId": "d1680a9d-854a-4627-e013-81984e4c3bd5"
      },
      "outputs": [
        {
          "name": "stderr",
          "output_type": "stream",
          "text": [
            "c:\\Users\\LENOVO\\anaconda3\\envs\\ml_env\\lib\\site-packages\\keras\\src\\engine\\training.py:3103: UserWarning: You are saving your model as an HDF5 file via `model.save()`. This file format is considered legacy. We recommend using instead the native Keras format, e.g. `model.save('my_model.keras')`.\n",
            "  saving_api.save_model(\n"
          ]
        }
      ],
      "source": [
        "model.save(\"model.h5\")\n"
      ]
    },
    {
      "cell_type": "code",
      "execution_count": 25,
      "metadata": {
        "colab": {
          "base_uri": "https://localhost:8080/"
        },
        "id": "IPjI-QuBvUNo",
        "outputId": "e9b9ea36-c602-4372-a2e1-689c1439a452"
      },
      "outputs": [
        {
          "data": {
            "text/plain": [
              "['scaler.pkl']"
            ]
          },
          "execution_count": 25,
          "metadata": {},
          "output_type": "execute_result"
        }
      ],
      "source": [
        "import joblib\n",
        "joblib.dump(scaler, \"scaler.pkl\")\n"
      ]
    },
    {
      "cell_type": "code",
      "execution_count": 26,
      "metadata": {
        "id": "Gb4nSF5nwC9f"
      },
      "outputs": [],
      "source": []
    }
  ],
  "metadata": {
    "accelerator": "GPU",
    "colab": {
      "gpuType": "T4",
      "provenance": []
    },
    "kernelspec": {
      "display_name": "ml_env",
      "language": "python",
      "name": "python3"
    },
    "language_info": {
      "codemirror_mode": {
        "name": "ipython",
        "version": 3
      },
      "file_extension": ".py",
      "mimetype": "text/x-python",
      "name": "python",
      "nbconvert_exporter": "python",
      "pygments_lexer": "ipython3",
      "version": "3.10.18"
    }
  },
  "nbformat": 4,
  "nbformat_minor": 0
}
